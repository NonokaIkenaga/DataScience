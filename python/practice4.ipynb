{
 "cells": [
  {
   "cell_type": "code",
   "execution_count": 2,
   "id": "b33f45ae",
   "metadata": {},
   "outputs": [
    {
     "name": "stdout",
     "output_type": "stream",
     "text": [
      "       材力   機力   熱力   流力\n",
      "学籍番号                    \n",
      "1001   60   65   70   75\n",
      "1002   80   85   90   90\n",
      "1003   90   80   60   50\n",
      "1004  100  100  100  100\n",
      "             材力         機力         熱力         流力\n",
      "学籍番号                                            \n",
      "1001  36.825349  37.875644  44.522774  48.275596\n",
      "1002  48.536150  51.732051  55.477226  55.173211\n",
      "1003  54.391550  48.267949  39.045549  36.779571\n",
      "1004  60.246951  62.124356  60.954451  59.771621\n"
     ]
    }
   ],
   "source": [
    "import pandas as pd\n",
    "df=pd.read_excel('seiseki.xlsx', index_col=\"学籍番号\")\n",
    "\n",
    "df_score = df.loc[1001:1004, \"材力\":\"流力\"]\n",
    "print(df_score)\n",
    "\n",
    "df_mean=df.mean(numeric_only = True)\n",
    "df_std=df.std(numeric_only = True)\n",
    "df_dev=(df_score - df_mean)/df_std*10.0+50.0\n",
    "\n",
    "print(df_dev)"
   ]
  }
 ],
 "metadata": {
  "kernelspec": {
   "display_name": "Python 3 (ipykernel)",
   "language": "python",
   "name": "python3"
  },
  "language_info": {
   "codemirror_mode": {
    "name": "ipython",
    "version": 3
   },
   "file_extension": ".py",
   "mimetype": "text/x-python",
   "name": "python",
   "nbconvert_exporter": "python",
   "pygments_lexer": "ipython3",
   "version": "3.10.9"
  }
 },
 "nbformat": 4,
 "nbformat_minor": 5
}
