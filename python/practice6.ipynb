{
 "cells": [
  {
   "cell_type": "code",
   "execution_count": 13,
   "id": "641420a0",
   "metadata": {},
   "outputs": [
    {
     "name": "stdout",
     "output_type": "stream",
     "text": [
      "(10.000000000000002, 1.1379749364993588e-13)\n"
     ]
    }
   ],
   "source": [
    "# import numpy as np\n",
    "from scipy import integrate\n",
    "\n",
    "def function(x):\n",
    "    f=(2*x-3)**3\n",
    "    return f\n",
    "\n",
    "result=integrate.quad(function,1,3)\n",
    "print(result)    "
   ]
  }
 ],
 "metadata": {
  "kernelspec": {
   "display_name": "Python 3 (ipykernel)",
   "language": "python",
   "name": "python3"
  },
  "language_info": {
   "codemirror_mode": {
    "name": "ipython",
    "version": 3
   },
   "file_extension": ".py",
   "mimetype": "text/x-python",
   "name": "python",
   "nbconvert_exporter": "python",
   "pygments_lexer": "ipython3",
   "version": "3.9.12"
  }
 },
 "nbformat": 4,
 "nbformat_minor": 5
}
