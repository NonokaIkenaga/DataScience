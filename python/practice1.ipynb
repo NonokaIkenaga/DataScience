{
 "cells": [
  {
   "cell_type": "code",
   "execution_count": null,
   "id": "a2736f0f",
   "metadata": {},
   "outputs": [],
   "source": [
    "a=input(\"体重を入力してください[kg]\")\n",
    "a=float(a)\n",
    "b=input(\"身長を入力してください[m]\")\n",
    "b=float(b)\n",
    "BMI=a/b**2\n",
    "print(\"BMI=\",BMI)"
   ]
  }
 ],
 "metadata": {
  "kernelspec": {
   "display_name": "Python 3 (ipykernel)",
   "language": "python",
   "name": "python3"
  },
  "language_info": {
   "codemirror_mode": {
    "name": "ipython",
    "version": 3
   },
   "file_extension": ".py",
   "mimetype": "text/x-python",
   "name": "python",
   "nbconvert_exporter": "python",
   "pygments_lexer": "ipython3",
   "version": "3.9.12"
  }
 },
 "nbformat": 4,
 "nbformat_minor": 5
}
