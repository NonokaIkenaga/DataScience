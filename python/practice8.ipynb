{
 "cells": [
  {
   "cell_type": "code",
   "execution_count": 4,
   "id": "bc3a727b",
   "metadata": {},
   "outputs": [
    {
     "name": "stdout",
     "output_type": "stream",
     "text": [
      "train score: 97.65%\n",
      "test score: 91.61%\n"
     ]
    }
   ],
   "source": [
    "from sklearn.datasets import load_breast_cancer\n",
    "import pandas as pd\n",
    "import matplotlib.pyplot as plt\n",
    "\n",
    "# read data\n",
    "dataset=load_breast_cancer()\n",
    "#print(cancer)\n",
    "df=pd.DataFrame(dataset.data,columns=dataset.feature_names)\n",
    "df['class']=dataset.target_names[dataset.target]\n",
    "df.head()\n",
    "\n",
    "from sklearn.model_selection import train_test_split\n",
    "X=dataset.data\n",
    "Y=dataset.target\n",
    "X_train,X_test,Y_train,Y_test=train_test_split(X,Y,random_state=0)\n",
    "from sklearn import tree\n",
    "model=tree.DecisionTreeClassifier(max_depth=3)\n",
    "model.fit(X_train,Y_train)\n",
    "\n",
    "from sklearn import metrics\n",
    "predict_train=model.predict(X_train)\n",
    "ac_score=metrics.accuracy_score(Y_train,predict_train)\n",
    "print('train score: {:.2f}%'.format(ac_score*100))\n",
    "\n",
    "predict_train=model.predict(X_test)\n",
    "ac_score=metrics.accuracy_score(Y_test,predict_train)\n",
    "print('test score: {:.2f}%'.format(ac_score*100))"
   ]
  }
 ],
 "metadata": {
  "kernelspec": {
   "display_name": "Python 3 (ipykernel)",
   "language": "python",
   "name": "python3"
  },
  "language_info": {
   "codemirror_mode": {
    "name": "ipython",
    "version": 3
   },
   "file_extension": ".py",
   "mimetype": "text/x-python",
   "name": "python",
   "nbconvert_exporter": "python",
   "pygments_lexer": "ipython3",
   "version": "3.9.12"
  }
 },
 "nbformat": 4,
 "nbformat_minor": 5
}
